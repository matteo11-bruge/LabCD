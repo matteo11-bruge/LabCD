{
 "cells": [
  {
   "cell_type": "markdown",
   "metadata": {},
   "source": [
    "# Laboratório 3.2 - Notebook do aluno"
   ]
  },
  {
   "cell_type": "markdown",
   "metadata": {},
   "source": [
    "## Visão geral\n",
    "\n",
    "Este laboratório é uma continuação dos laboratórios guiados do Módulo 3. \n",
    "\n",
    "## Apresentação do cenário de negócios\n",
    "\n",
    "Você trabalha para um provedor de serviços médicos e deseja melhorar a detecção de anormalidades em pacientes ortopédicos. \n",
    "\n",
    "Você tem a incumbência de resolver esse problema usando machine learning (ML). Você tem acesso a um conjunto de dados que contém seis componentes biomecânicos (features) e um alvo (target) de *normal* (normal) ou *abnormal* (anormal). Você pode usar esse conjunto de dados (datasets) para treinar um modelo de ML para prever se um paciente terá uma anomalia.\n",
    "\n",
    "## Sobre esse conjunto de dados\n",
    "Esse conjunto de dados (dataset) biomédicos foi criado pelo Dr. Henrique da Mota durante um período de residência médica no Group of Applied Research in Orthopaedics (GARO) do Centre Médico-Chirurgical de Réadaptation des Massues em Lyon, na França. Os dados foram organizados em duas tarefas de classificação diferentes, mas relacionadas. \n",
    "\n",
    "A primeira tarefa consiste em classificar os pacientes como pertencentes a uma das três categorias a seguir: \n",
    "\n",
    "- *Normal* (Normal) (100 pacientes)\n",
    "- *Disk Hernia* (Hérnia de disco) (60 pacientes)\n",
    "- *Spondylolisthesis* (Espondilolistese) (150 pacientes)\n",
    "\n",
    "Para a segunda tarefa, as categorias *Disk Hernia* (Hérnia de disco) e *Spondylolisthesis* (Espondilolistese) foram mescladas em uma única categoria, rotulada como *abnormal* (anormal). Portanto, a segunda tarefa consiste em classificar os pacientes como pertencentes a uma das categorias: *Normal* (Normal) (100 pacientes) ou *Abnormal* (Anormal) (210 pacientes).\n",
    "\n",
    "\n",
    "## Informações de atributo\n",
    "\n",
    "Cada paciente é representado no conjunto de dados por seis atributos biomecânicos derivados da forma e da orientação da pelve e da coluna lombar (nesta ordem): \n",
    "\n",
    "- Incidência pélvica\n",
    "- Inclinação pélvica\n",
    "- Ângulo da lordose lombar\n",
    "- Inclinação sacral\n",
    "- Raio pélvico\n",
    "- Grau de espondilolistese\n",
    "\n",
    "A convenção a seguir é usada para os rótulos de classe (labels): \n",
    "- DH (hérnia de disco)\n",
    "- Espondilolistese (SL)\n",
    "- Normal (NO) \n",
    "- Anormal (AB)\n",
    "\n",
    "\n",
    "Para obter mais informações sobre esse conjunto de dados, consulte a [página da Web Conjunto de dados de coluna vertebral](http://archive.ics.uci.edu/ml/datasets/Vertebral+Column).\n",
    "\n",
    "## Atribuições do conjunto de dados (dataset)\n",
    "Esse conjunto de dados foi obtido de:\n",
    "Dua, D. e Graff, C. (2019). repositório UCI Machine Learning (http://archive.ics.uci.edu/ml). Irvine, CA: University of California, School of Information and Computer Science.\n"
   ]
  },
  {
   "cell_type": "markdown",
   "metadata": {},
   "source": [
    "# Configuração do laboratório\n",
    "Como essa solução é dividida em vários laboratórios neste módulo, você executará as seguintes células para poder carregar os dados:"
   ]
  },
  {
   "cell_type": "markdown",
   "metadata": {},
   "source": [
    "## Importação de dados"
   ]
  },
  {
   "cell_type": "code",
   "execution_count": 4,
   "metadata": {},
   "outputs": [],
   "source": [
    "import warnings, requests, zipfile, io\n",
    "warnings.simplefilter('ignore')\n",
    "import pandas as pd\n",
    "from scipy.io import arff"
   ]
  },
  {
   "cell_type": "code",
   "execution_count": 5,
   "metadata": {},
   "outputs": [],
   "source": [
    "f_zip = 'http://archive.ics.uci.edu/ml/machine-learning-databases/00212/vertebral_column_data.zip'\n",
    "r = requests.get(f_zip, stream=True)\n",
    "Vertebral_zip = zipfile.ZipFile(io.BytesIO(r.content))\n",
    "Vertebral_zip.extractall()"
   ]
  },
  {
   "cell_type": "code",
   "execution_count": 6,
   "metadata": {},
   "outputs": [],
   "source": [
    "data = arff.loadarff('column_2C_weka.arff')\n",
    "df = pd.DataFrame(data[0])"
   ]
  },
  {
   "cell_type": "markdown",
   "metadata": {},
   "source": [
    "# Etapa 1: Exploração dos dados\n",
    "Você começará a examinar os dados no conjunto de dados (dataset). \n",
    "\n",
    "Para aproveitar ao máximo este laboratório, leia atentamente as instruções e o código antes de executar as células. Reserve um tempo para experimentar!"
   ]
  },
  {
   "cell_type": "markdown",
   "metadata": {},
   "source": [
    "Primeiro, você usará a função **shape** para examinar o número de linhas e colunas"
   ]
  },
  {
   "cell_type": "code",
   "execution_count": null,
   "metadata": {},
   "outputs": [],
   "source": [
    "df . shape"
   ]
  },
  {
   "cell_type": "markdown",
   "metadata": {},
   "source": [
    "Agora, você obterá uma lista das colunas."
   ]
  },
  {
   "cell_type": "code",
   "execution_count": 8,
   "metadata": {},
   "outputs": [
    {
     "data": {
      "text/plain": [
       "Index(['pelvic_incidence', 'pelvic_tilt', 'lumbar_lordosis_angle',\n",
       "       'sacral_slope', 'pelvic_radius', 'degree_spondylolisthesis', 'class'],\n",
       "      dtype='object')"
      ]
     },
     "execution_count": 8,
     "metadata": {},
     "output_type": "execute_result"
    }
   ],
   "source": [
    "df.columns"
   ]
  },
  {
   "cell_type": "markdown",
   "metadata": {},
   "source": [
    "É possível ver os seis componentes biomecânicos, e a coluna alvo (target) é chamada *class* (classe).\n",
    "\n",
    "Quais tipos de coluna você tem?"
   ]
  },
  {
   "cell_type": "code",
   "execution_count": null,
   "metadata": {},
   "outputs": [],
   "source": [
    "df.dtypes"
   ]
  },
  {
   "cell_type": "markdown",
   "metadata": {},
   "source": [
    "Você tem seis tipos float (ponto flutuante) para os componentes (features) biomecânicos, mas o alvo (target) é uma class (classe).\n",
    "\n",
    "Para examinar as estatísticas da primeira coluna, você pode usar a função **describe**."
   ]
  },
  {
   "cell_type": "code",
   "execution_count": null,
   "metadata": {},
   "outputs": [],
   "source": [
    "df['pelvic_incidence'].describe()"
   ]
  },
  {
   "cell_type": "markdown",
   "metadata": {},
   "source": [
    "**Tarefa de desafio:** Tente atualizar o código na célula anterior para visualizar as estatísticas de outros componentes (features). Quais componentes têm anomalias (outliers) que talvez você queira examinar?"
   ]
  },
  {
   "cell_type": "markdown",
   "metadata": {},
   "source": [
    "Como esse conjunto de dados (dataset) tem apenas seis componentes (features), você pode exibir as estatísticas de cada componente (feature) executando **describe** em todo o DataFrame."
   ]
  },
  {
   "cell_type": "code",
   "execution_count": null,
   "metadata": {},
   "outputs": [],
   "source": [
    "df.describe()"
   ]
  },
  {
   "cell_type": "markdown",
   "metadata": {},
   "source": [
    "**Pergunta:** Há algum componente (feature) que não se apresente bem distribuído? Há algum componente (feature) com anomalias (outliers) que você deseja examinar? Parece que pode haver alguma correlação entre os componentes (features)?"
   ]
  },
  {
   "cell_type": "markdown",
   "metadata": {},
   "source": [
    "Nem sempre é fácil fazer observações quando você olha apenas para números, portanto, agora você plotará esses valores."
   ]
  },
  {
   "cell_type": "code",
   "execution_count": null,
   "metadata": {},
   "outputs": [],
   "source": [
    "import matplotlib.pyplot as plt\n",
    "%matplotlib inline\n",
    "df.plot()"
   ]
  },
  {
   "cell_type": "markdown",
   "metadata": {},
   "source": [
    "Agora, você plotará a distribuição dos valores para cada componente usando um gráfico *density or kernel density estimate (KDE)* (densidade ou estimativa de densidade por kernel)."
   ]
  },
  {
   "cell_type": "code",
   "execution_count": null,
   "metadata": {},
   "outputs": [],
   "source": [
    "df.plot(kind='density',subplots=True,layout=(4,2),figsize=(12,12),sharex=False)\n",
    "plt.show()"
   ]
  },
  {
   "cell_type": "markdown",
   "metadata": {},
   "source": [
    "Algumas das visualizações se destacam?\n",
    "\n",
    "### Investigar degree_spondylolisthesis\n",
    "Agora você investigará **degree_spondylolisthesis**:"
   ]
  },
  {
   "cell_type": "markdown",
   "metadata": {},
   "source": [
    "Comece com o *density plot* (gráfico de densidade), que, se você lembrar, mostra a *distribution of the values* (distribuição dos valores)."
   ]
  },
  {
   "cell_type": "code",
   "execution_count": null,
   "metadata": {},
   "outputs": [],
   "source": [
    "df['degree_spondylolisthesis'].plot.density()"
   ]
  },
  {
   "cell_type": "markdown",
   "metadata": {},
   "source": [
    "Um gráfico de densidade ameniza a curva. Parece que pode haver um aumento em torno de **400**. Visualize os dados com um *histogram* (histograma)."
   ]
  },
  {
   "cell_type": "code",
   "execution_count": null,
   "metadata": {},
   "outputs": [],
   "source": [
    "df['degree_spondylolisthesis'].plot.hist()"
   ]
  },
  {
   "cell_type": "markdown",
   "metadata": {},
   "source": [
    "Ao usar um *box plot* (gráfico diagrama de caixa), você pode ver se há anomalias (outliers)."
   ]
  },
  {
   "cell_type": "code",
   "execution_count": null,
   "metadata": {},
   "outputs": [],
   "source": [
    "df['degree_spondylolisthesis'].plot.box()"
   ]
  },
  {
   "cell_type": "markdown",
   "metadata": {},
   "source": [
    "Você pode ver um pequeno aumento em torno de **400**. Às vezes, exceções como esta podem levar ao descarte de modelos de treinamento. A única maneira de descobrir seria testar o modelo com e sem as anomalias (outliers) e comparar as pontuações (scores) dos modelos. No entanto, esta é uma tarefa para um laboratório posterior."
   ]
  },
  {
   "cell_type": "markdown",
   "metadata": {},
   "source": [
    "Você pode ver o que já parece um cluster no gráfico diagrama de de caixa (box plot) acima, o qual parece ter um valor máximo já definido. Há uma correlação entre esses pontos de dados (data points) e o alvo (target)?"
   ]
  },
  {
   "cell_type": "markdown",
   "metadata": {},
   "source": [
    "Antes de procurar uma correlação, você examinará mais o alvo (target).\n",
    "\n",
    "## Analisando o alvo (target)\n",
    "\n",
    "Primeiro, que tipo de distribuição você tem?"
   ]
  },
  {
   "cell_type": "code",
   "execution_count": null,
   "metadata": {},
   "outputs": [],
   "source": [
    "df['class'].value_counts()"
   ]
  },
  {
   "cell_type": "markdown",
   "metadata": {},
   "source": [
    "Parece que você tem cerca de 1/3 *Normal* e 2/3 *Abormal* (Anormal). Esse resultado deve ser aceitável, mas se você pudesse obter mais dados, você gostaria de fazer mais tentativas e de equilibrar melhor os números. "
   ]
  },
  {
   "cell_type": "markdown",
   "metadata": {},
   "source": [
    "Os valores do tipo class (classe) não funcionarão para o seu modelo de ML, portanto, você irá converter essa coluna em um valor numérico. Você pode usar o *mapper* (mapeador) para essa tarefa."
   ]
  },
  {
   "cell_type": "code",
   "execution_count": null,
   "metadata": {},
   "outputs": [],
   "source": [
    "class_mapper = {b'Abnormal':1,b'Normal':0}\n",
    "df['class']=df['class'].replace(class_mapper)"
   ]
  },
  {
   "cell_type": "markdown",
   "metadata": {},
   "source": [
    "Agora, é possível plotar *degree_spondylolisthesis* para o alvo (target)."
   ]
  },
  {
   "cell_type": "code",
   "execution_count": null,
   "metadata": {},
   "outputs": [],
   "source": [
    "df.plot.scatter(y='degree_spondylolisthesis',x='class')"
   ]
  },
  {
   "cell_type": "markdown",
   "metadata": {},
   "source": [
    "O que você vê?\n",
    "\n",
    "Embora pareça haver uma conexão entre os valores altos e as anormalidades, também há muitos valores que estão no mesmo intervalo. Portanto, pode haver uma correlação, mas vale a pena analisar melhor os dados.\n",
    "\n",
    "**Tarefa de desafio:** Usando as células anteriores, determine como os valores de outros componentes (features) correspondem em relação ao alvo (target)."
   ]
  },
  {
   "cell_type": "markdown",
   "metadata": {},
   "source": [
    "### Visualizando múltiplas variáveis\n",
    "\n",
    "Como demonstram as etapas anteriores, as visualizações podem ser muito importantes. Às vezes, você poderá querer analisar múltiplos pontos de dados (data points). Você pode fazer isso usando *groupby*.\n",
    "\n",
    "A colocação dos componentes (features) dos dois valores *Abnormal* (Anormal) e *Normal* (normal) lado a lado pode ajudá-lo a observar outras diferenças."
   ]
  },
  {
   "cell_type": "code",
   "execution_count": null,
   "metadata": {},
   "outputs": [],
   "source": [
    "df.groupby('class').boxplot(fontsize=20,rot=90,figsize=(20,10),patch_artist=True)"
   ]
  },
  {
   "cell_type": "markdown",
   "metadata": {},
   "source": [
    "Usando a função **corr**, você pode criar uma matriz de correlação para todo o conjunto de dados (dataset)."
   ]
  },
  {
   "cell_type": "code",
   "execution_count": null,
   "metadata": {},
   "outputs": [],
   "source": [
    "corr_matrix = df.corr()\n",
    "corr_matrix[\"class\"].sort_values(ascending=False)"
   ]
  },
  {
   "cell_type": "markdown",
   "metadata": {},
   "source": [
    "Você também pode plotar esses dados."
   ]
  },
  {
   "cell_type": "code",
   "execution_count": null,
   "metadata": {},
   "outputs": [],
   "source": [
    "pd.plotting.scatter_matrix(df,figsize=(12,12))\n",
    "plt.show()"
   ]
  },
  {
   "cell_type": "markdown",
   "metadata": {},
   "source": [
    "Ao usar **seaborn**, você pode visualizar a correlação como um *heatmap* (mapa de calor)."
   ]
  },
  {
   "cell_type": "code",
   "execution_count": null,
   "metadata": {},
   "outputs": [],
   "source": [
    "import seaborn as sns\n",
    "# Plot figsize\n",
    "fig, ax = plt.subplots(figsize=(10, 10))\n",
    "# Generate Color Map\n",
    "# colormap = sns.diverging_palette(220, 10, as_cmap=True)\n",
    "colormap = sns.color_palette(\"BrBG\", 10)\n",
    "# Generate Heat Map, allow annotations and place floats in map\n",
    "sns.heatmap(corr_matrix, cmap=colormap, annot=True, fmt=\".2f\")\n",
    "#ax.set_yticklabels(column_names);\n",
    "plt.show()"
   ]
  },
  {
   "cell_type": "markdown",
   "metadata": {},
   "source": [
    "**Tarefa de desafio:** Busque outros dados disponíveis no repositório UCI Machine Learning. Usando o código anterior como referência, explore!\n"
   ]
  },
  {
   "cell_type": "markdown",
   "metadata": {},
   "source": [
    "# Parabéns!\n",
    "\n",
    "Você concluiu este laboratório e agora pode encerrá-lo seguindo as instruções do guia do laboratório."
   ]
  }
 ],
 "metadata": {
  "kernelspec": {
   "display_name": "conda_python3",
   "language": "python",
   "name": "conda_python3"
  },
  "language_info": {
   "codemirror_mode": {
    "name": "ipython",
    "version": 3
   },
   "file_extension": ".py",
   "mimetype": "text/x-python",
   "name": "python",
   "nbconvert_exporter": "python",
   "pygments_lexer": "ipython3",
   "version": "3.10.12"
  }
 },
 "nbformat": 4,
 "nbformat_minor": 4
}
